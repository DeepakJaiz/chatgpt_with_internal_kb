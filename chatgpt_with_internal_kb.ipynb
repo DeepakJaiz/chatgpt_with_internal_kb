{
 "cells": [
  {
   "cell_type": "markdown",
   "id": "d4f7fe48",
   "metadata": {},
   "source": [
    "### Internal Knowledge Base Q&A Using Langchain & OpenAI\n",
    "##### This example shows how to query an internal knowledge base stored in a GitHub repo as Markdown files.\n",
    "\n",
    "##### This notebook is adapted from the Retrieval Question Answering with Sources example by Langchain."
   ]
  },
  {
   "cell_type": "code",
   "execution_count": null,
   "id": "ae41570e",
   "metadata": {},
   "outputs": [],
   "source": [
    "# !pip install langchain==0.0.123 # https://github.com/hwchase17/langchain/releases\n",
    "# !pip install openai\n",
    "# !pip install faiss-cpu"
   ]
  },
  {
   "cell_type": "markdown",
   "id": "bd6bcff9",
   "metadata": {},
   "source": [
    "### Set up OPEN_API_KEY and necessary variables"
   ]
  },
  {
   "cell_type": "code",
   "execution_count": 22,
   "id": "e12c972d",
   "metadata": {},
   "outputs": [
    {
     "name": "stdout",
     "output_type": "stream",
     "text": [
      "Paste your OpenAI API key here and hit enter:········\n"
     ]
    }
   ],
   "source": [
    "import os\n",
    "from getpass import getpass\n",
    "\n",
    "os.environ[\"OPENAI_API_KEY\"] = getpass(\"Paste your OpenAI API key here and hit enter:\")"
   ]
  },
  {
   "cell_type": "code",
   "execution_count": 2,
   "id": "a6bcd23c",
   "metadata": {},
   "outputs": [],
   "source": [
    "REPO_URL = \"https://github.com/GovTechSG/developer.gov.sg\"  # Source URL\n",
    "DOCS_FOLDER = \"docs\"  # Folder to check out to\n",
    "REPO_DOCUMENTS_PATH = \"collections/_products/categories/devops/ship-hats\"  # Set to \"\" to index the whole data folder\n",
    "DOCUMENT_BASE_URL = \"https://www.developer.tech.gov.sg/products/categories/devops/ship-hats\"  # Actual URL\n",
    "DATA_STORE_DIR = \"data_store\""
   ]
  },
  {
   "cell_type": "markdown",
   "id": "057be1cf",
   "metadata": {},
   "source": [
    "## Build the datastore \n",
    "*(Skip to next section to load data store from files if it has been saved locally to save cost of embeddings)*"
   ]
  },
  {
   "cell_type": "markdown",
   "id": "c1c90ed7",
   "metadata": {},
   "source": [
    "### Clone the GitHub repo"
   ]
  },
  {
   "cell_type": "code",
   "execution_count": 8,
   "id": "81065fb5",
   "metadata": {},
   "outputs": [
    {
     "name": "stderr",
     "output_type": "stream",
     "text": [
      "Cloning into 'docs'...\n",
      "Updating files:   9% (189/1963)\n",
      "Updating files:  10% (197/1963)\n",
      "Updating files:  11% (216/1963)\n",
      "Updating files:  12% (236/1963)\n",
      "Updating files:  13% (256/1963)\n",
      "Updating files:  14% (275/1963)\n",
      "Updating files:  14% (279/1963)\n",
      "Updating files:  15% (295/1963)\n",
      "Updating files:  16% (315/1963)\n",
      "Updating files:  17% (334/1963)\n",
      "Updating files:  18% (354/1963)\n",
      "Updating files:  18% (367/1963)\n",
      "Updating files:  19% (373/1963)\n",
      "Updating files:  20% (393/1963)\n",
      "Updating files:  21% (413/1963)\n",
      "Updating files:  21% (423/1963)\n",
      "Updating files:  22% (432/1963)\n",
      "Updating files:  23% (452/1963)\n",
      "Updating files:  24% (472/1963)\n",
      "Updating files:  25% (491/1963)\n",
      "Updating files:  26% (511/1963)\n",
      "Updating files:  27% (531/1963)\n",
      "Updating files:  28% (550/1963)\n",
      "Updating files:  28% (557/1963)\n",
      "Updating files:  29% (570/1963)\n",
      "Updating files:  30% (589/1963)\n",
      "Updating files:  31% (609/1963)\n",
      "Updating files:  32% (629/1963)\n",
      "Updating files:  33% (648/1963)\n",
      "Updating files:  34% (668/1963)\n",
      "Updating files:  34% (670/1963)\n",
      "Updating files:  35% (688/1963)\n",
      "Updating files:  36% (707/1963)\n",
      "Updating files:  37% (727/1963)\n",
      "Updating files:  38% (746/1963)\n",
      "Updating files:  39% (766/1963)\n",
      "Updating files:  40% (786/1963)\n",
      "Updating files:  41% (805/1963)\n",
      "Updating files:  42% (825/1963)\n",
      "Updating files:  43% (845/1963)\n",
      "Updating files:  44% (864/1963)\n",
      "Updating files:  45% (884/1963)\n",
      "Updating files:  46% (903/1963)\n",
      "Updating files:  47% (923/1963)\n",
      "Updating files:  48% (943/1963)\n",
      "Updating files:  49% (962/1963)\n",
      "Updating files:  50% (982/1963)\n",
      "Updating files:  51% (1002/1963)\n",
      "Updating files:  52% (1021/1963)\n",
      "Updating files:  53% (1041/1963)\n",
      "Updating files:  54% (1061/1963)\n",
      "Updating files:  55% (1080/1963)\n",
      "Updating files:  56% (1100/1963)\n",
      "Updating files:  57% (1119/1963)\n",
      "Updating files:  57% (1135/1963)\n",
      "Updating files:  58% (1139/1963)\n",
      "Updating files:  59% (1159/1963)\n",
      "Updating files:  60% (1178/1963)\n",
      "Updating files:  61% (1198/1963)\n",
      "Updating files:  62% (1218/1963)\n",
      "Updating files:  63% (1237/1963)\n",
      "Updating files:  64% (1257/1963)\n",
      "Updating files:  65% (1276/1963)\n",
      "Updating files:  66% (1296/1963)\n",
      "Updating files:  67% (1316/1963)\n",
      "Updating files:  68% (1335/1963)\n",
      "Updating files:  69% (1355/1963)\n",
      "Updating files:  70% (1375/1963)\n",
      "Updating files:  71% (1394/1963)\n",
      "Updating files:  71% (1410/1963)\n",
      "Updating files:  72% (1414/1963)\n",
      "Updating files:  73% (1433/1963)\n",
      "Updating files:  74% (1453/1963)\n",
      "Updating files:  75% (1473/1963)\n",
      "Updating files:  76% (1492/1963)\n",
      "Updating files:  77% (1512/1963)\n",
      "Updating files:  78% (1532/1963)\n",
      "Updating files:  79% (1551/1963)\n",
      "Updating files:  80% (1571/1963)\n",
      "Updating files:  81% (1591/1963)\n",
      "Updating files:  82% (1610/1963)\n",
      "Updating files:  83% (1630/1963)\n",
      "Updating files:  84% (1649/1963)\n",
      "Updating files:  85% (1669/1963)\n",
      "Updating files:  86% (1689/1963)\n",
      "Updating files:  87% (1708/1963)\n",
      "Updating files:  88% (1728/1963)\n",
      "Updating files:  89% (1748/1963)\n",
      "Updating files:  90% (1767/1963)\n",
      "Updating files:  91% (1787/1963)\n",
      "Updating files:  92% (1806/1963)\n",
      "Updating files:  93% (1826/1963)\n",
      "Updating files:  94% (1846/1963)\n",
      "Updating files:  95% (1865/1963)\n",
      "Updating files:  96% (1885/1963)\n",
      "Updating files:  97% (1905/1963)\n",
      "Updating files:  97% (1915/1963)\n",
      "Updating files:  98% (1924/1963)\n",
      "Updating files:  99% (1944/1963)\n",
      "Updating files: 100% (1963/1963)\n",
      "Updating files: 100% (1963/1963), done.\n",
      "warning: the following paths have collided (e.g. case-sensitive paths\n",
      "on a case-insensitive filesystem) and only one from the same\n",
      "colliding group is in the working tree:\n",
      "\n",
      "  'assets/img/Apex-NewHeaderBanner.png'\n",
      "  'assets/img/apex-NewHeaderBanner.png'\n"
     ]
    }
   ],
   "source": [
    "!git clone $REPO_URL $DOCS_FOLDER"
   ]
  },
  {
   "cell_type": "markdown",
   "id": "33904978",
   "metadata": {},
   "source": [
    "### Load documents and split them into chunks for conversion to embeddings"
   ]
  },
  {
   "cell_type": "code",
   "execution_count": 9,
   "id": "0632265b",
   "metadata": {},
   "outputs": [
    {
     "name": "stderr",
     "output_type": "stream",
     "text": [
      "Created a chunk of size 1597, which is longer than the specified 1000\n",
      "Created a chunk of size 1295, which is longer than the specified 1000\n",
      "Created a chunk of size 2141, which is longer than the specified 1000\n"
     ]
    }
   ],
   "source": [
    "import os\n",
    "import pathlib\n",
    "import re\n",
    "\n",
    "from langchain.docstore.document import Document\n",
    "from langchain.document_loaders import TextLoader\n",
    "\n",
    "from langchain.text_splitter import CharacterTextSplitter\n",
    "from langchain.embeddings.openai import OpenAIEmbeddings\n",
    "from langchain.vectorstores import FAISS\n",
    "\n",
    "name_filter = \"**/*.md\"\n",
    "separator = \"\\n### \"  # This separator assumes Markdown docs from the repo uses ### as logical main header most of the time\n",
    "chunk_size_limit = 1000\n",
    "max_chunk_overlap = 20\n",
    "\n",
    "repo_path = pathlib.Path(os.path.join(DOCS_FOLDER, REPO_DOCUMENTS_PATH))\n",
    "document_files = list(repo_path.glob(name_filter))\n",
    "\n",
    "def convert_path_to_doc_url(doc_path):\n",
    "  # Convert from relative path to actual document url\n",
    "  return re.sub(f\"{DOCS_FOLDER}/{REPO_DOCUMENTS_PATH}/(.*)\\.[\\w\\d]+\", f\"{DOCUMENT_BASE_URL}/\\\\1\", str(doc_path))\n",
    "\n",
    "documents = [\n",
    "    Document(\n",
    "        page_content=open(file, \"r\").read(),\n",
    "        metadata={\"source\": convert_path_to_doc_url(file)}\n",
    "    )\n",
    "    for file in document_files\n",
    "]\n",
    "\n",
    "text_splitter = CharacterTextSplitter(separator=separator, chunk_size=chunk_size_limit, chunk_overlap=max_chunk_overlap)\n",
    "split_docs = text_splitter.split_documents(documents)"
   ]
  },
  {
   "cell_type": "markdown",
   "id": "85f64188",
   "metadata": {},
   "source": [
    "### (Optional) Check estimated tokens and costs"
   ]
  },
  {
   "cell_type": "code",
   "execution_count": null,
   "id": "2e802d47",
   "metadata": {},
   "outputs": [],
   "source": [
    "#!pip install tiktoken"
   ]
  },
  {
   "cell_type": "code",
   "execution_count": 11,
   "id": "26eb46e9",
   "metadata": {},
   "outputs": [
    {
     "name": "stdout",
     "output_type": "stream",
     "text": [
      "\n",
      "Total word count: 2065\n",
      "\n",
      "Estimated tokens: 5230\n",
      "\n",
      "Estimated cost of embedding: $0.002092\n"
     ]
    }
   ],
   "source": [
    "import tiktoken\n",
    "# create a GPT-4 encoder instance\n",
    "enc = tiktoken.encoding_for_model(\"gpt-4\")\n",
    "\n",
    "total_word_count = sum(len(doc.page_content.split()) for doc in split_docs)\n",
    "total_token_count = sum(len(enc.encode(doc.page_content)) for doc in split_docs)\n",
    "\n",
    "print(f\"\\nTotal word count: {total_word_count}\")\n",
    "print(f\"\\nEstimated tokens: {total_token_count}\")\n",
    "print(f\"\\nEstimated cost of embedding: ${total_token_count * 0.0004 / 1000}\")"
   ]
  },
  {
   "cell_type": "code",
   "execution_count": 12,
   "id": "25a39db0",
   "metadata": {},
   "outputs": [],
   "source": [
    "embeddings = OpenAIEmbeddings()\n",
    "vector_store = FAISS.from_documents(split_docs, embeddings)"
   ]
  },
  {
   "cell_type": "markdown",
   "id": "478a287e",
   "metadata": {},
   "source": [
    "### Verify content of Vector Store with a sample query"
   ]
  },
  {
   "cell_type": "code",
   "execution_count": 13,
   "id": "9f4cb9a2",
   "metadata": {},
   "outputs": [
    {
     "data": {
      "text/markdown": [
       "\n",
       "## Search results:\n",
       "\n",
       "\n",
       "  ### Source:\n",
       "docs\\collections\\_products\\categories\\devops\\ship-hats\\overview.md\n",
       "\n",
       "  #### Score:\n",
       "0.16688910126686096\n",
       "\n",
       "  #### Content:\n",
       "What is SHIP-HATS?\n",
       "\n",
       "**SHIP (Secure Hybrid Integration Pipeline)-HATS (Hive Agile Testing Solutions)** is Continuous Integration/Continuous Delivery [CI/CD](https://en.wikipedia.org/wiki/CI/CD){:target=\"_blank\"} component within SG Government Tech Stack (SGTS) with security and governance guardrails that enables developers to plan, build, test and deploy code to production.\n",
       "\n",
       "This is a multi-tenanted Software-as-a-Service (SaaS) based end-to-end CI/CD for all applications that is classified as RESTRICTED and below.\n",
       "\n",
       "[Why is CI/CD important?](https://youtu.be/RlZCyexsJBc?t=260){:Target=\"_blank\"}\n",
       "\n",
       "  \n",
       "\n",
       "  ### Source:\n",
       "docs\\collections\\_products\\categories\\devops\\ship-hats\\overview.md\n",
       "\n",
       "  #### Score:\n",
       "0.23639556765556335\n",
       "\n",
       "  #### Content:\n",
       "Benefits of SHIP-HATS\n",
       "\n",
       "1. **Policy Compliance:** Standardised development tools and environment that is set up in compliance with **Application Infrastructure Architecture Standard (AIAS)** and **Instruction Manual 8 on Information Technology (IM8)** policies.\n",
       "2. **Better Quality:** Automated security testing detects vulnerabilities early in the development cycle helping to deliver high quality applications. SHIP-HATS allows agencies to follow prescriptive workflow templates and share knowledge among themselves.\n",
       "3. **Visibility & Transparency:** Agencies will always have access to source code and hence a better understanding of how the project is progressing.\n",
       "4. **Shortened Time-to-market:** Agencies can shorten the time to market by leveraging on SHIP-HATS CI/CD tools with predefined & re-usable configurations into their system and do not have to invest in resources/time to do procurement with different commercial providers. Agencies also do not have to invest resources to re-train staff who were re-deployed across agencies.\n",
       "5. **Economies of Scale:** SHIP-HATS purchases licenses in bulk and redistributes them for use in smaller quantities to agencies and is offered as a complete package with no hidden cost.\n",
       "6. **GovTech Managed:** The CI/CD tools are procured and managed by GovTech letting you focus on your core application.\n",
       "7. **Performance Management Dashboard:** Value-Stream Measurement capabilities that allow Agencies to capture key industry metrics, such as lead time to deployment and deployment frequency, to monitor the effectiveness of their DevSecOps practices\n",
       "\n",
       "  \n",
       "\n",
       "  ### Source:\n",
       "docs\\collections\\_products\\categories\\devops\\ship-hats\\resources.md\n",
       "\n",
       "  #### Score:\n",
       "0.23909235000610352\n",
       "\n",
       "  #### Content:\n",
       "SHIP-HATS \n",
       "\n",
       "| Developers |  Project Managers, Business Analysts  |\n",
       "| :------------- | ----------------------------------------------------------------------------------------- |\n",
       "| [SHIP-HATS Architectural Approach](https://www.youtube.com/watch?v=yiD4--KSdTI){:target=\"_blank\"}<br />[Roadmap](./overview#roadmap)<br /><br />[User Roles & Permissions](https://docs.developer.gov.sg/docs/ship-hats-documentation/#/user-roles-permissions){:target=\"_blank\"}<br /> [Security Testing 101](https://www.youtube.com/watch?v=SVomPCqKGM4){:target=\"_blank\"}<br />[Continuous Delivery](https://www.youtube.com/watch?v=DMMhqLKHLx0){:target=\"_blank\"} | [SHIP-HATS Overview for Newbies](https://www.youtube.com/watch?v=SVomPCqKGM4){:target=\"_blank\"}<br />[Understanding Subscription](./subscriptions){:target=\"_blank\"}<br /><br />[Request trial (for Public Officers)](./subscription#11-can-i-request-for-a-trial-subscription){:target=\"_blank\"}\n",
       "\n",
       "  \n",
       "\n",
       "  ### Source:\n",
       "docs\\collections\\_products\\categories\\devops\\ship-hats\\training\\tools.md\n",
       "\n",
       "  #### Score:\n",
       "0.2773140072822571\n",
       "\n",
       "  #### Content:\n",
       "---\n",
       "title: Tools in SHIP-HATS\n",
       "layout: layout-page-sidenav\n",
       "description: insert description.\n",
       "published: false\n",
       "---\n",
       "\n",
       "### Overview\n",
       " \n",
       "**Commercially Off the Shelf (COTS)** tools are available on SHIP-HATS with right security and compliance settings. Here are curated links to documentation and tutorials to first learn the tools offered under **SHIP-HATS**. Note this is not specific to SHIP-HATS but a pre-cursor so you can use these tools within SHIP-HATS effectively.\n",
       "\n",
       "  \n"
      ],
      "text/plain": [
       "<IPython.core.display.Markdown object>"
      ]
     },
     "metadata": {},
     "output_type": "display_data"
    }
   ],
   "source": [
    "from IPython.display import display, Markdown\n",
    "\n",
    "search_result = vector_store.similarity_search_with_score(\"What is SHIP-HATS?\")\n",
    "search_result\n",
    "\n",
    "line_separator = \"\\n\"# {line_separator}Source: {r[0].metadata['source']}{line_separator}Score:{r[1]}{line_separator}\n",
    "display(Markdown(f\"\"\"\n",
    "## Search results:{line_separator}\n",
    "{line_separator.join([\n",
    "  f'''\n",
    "  ### Source:{line_separator}{r[0].metadata['source']}{line_separator}\n",
    "  #### Score:{line_separator}{r[1]}{line_separator}\n",
    "  #### Content:{line_separator}{r[0].page_content}{line_separator}\n",
    "  '''\n",
    "  for r in search_result\n",
    "])}\n",
    "\"\"\"))"
   ]
  },
  {
   "cell_type": "markdown",
   "id": "42b7c881",
   "metadata": {},
   "source": [
    "## (Optional) Save vector store to files and download/save in another location for reuse"
   ]
  },
  {
   "cell_type": "code",
   "execution_count": 14,
   "id": "4446a16c",
   "metadata": {},
   "outputs": [],
   "source": [
    "vector_store.save_local(DATA_STORE_DIR)\n",
    "# Download the files `$DATA_STORE_DIR/index.faiss` and `$DATA_STORE_DIR/index.pkl` to local"
   ]
  },
  {
   "cell_type": "markdown",
   "id": "4025f897",
   "metadata": {},
   "source": [
    "#### To load the Vector Store from files:"
   ]
  },
  {
   "cell_type": "code",
   "execution_count": 15,
   "id": "a9f4dfdd",
   "metadata": {},
   "outputs": [],
   "source": [
    "# Upload the files `$DATA_STORE_DIR/index.faiss` and `$DATA_STORE_DIR/index.pkl` to local\n",
    "from langchain.embeddings.openai import OpenAIEmbeddings\n",
    "from langchain.vectorstores import FAISS\n",
    "\n",
    "if os.path.exists(DATA_STORE_DIR):\n",
    "  vector_store = FAISS.load_local(\n",
    "      DATA_STORE_DIR,\n",
    "      OpenAIEmbeddings()\n",
    "  )\n",
    "else:\n",
    "  print(f\"Missing files. Upload index.faiss and index.pkl files to {DATA_STORE_DIR} directory first\")"
   ]
  },
  {
   "cell_type": "markdown",
   "id": "b9df5ea5",
   "metadata": {},
   "source": [
    "## Query using the vector store with ChatGPT integration\n",
    "### Set up the chat model and specific prompt"
   ]
  },
  {
   "cell_type": "code",
   "execution_count": 16,
   "id": "0bcb25da",
   "metadata": {},
   "outputs": [],
   "source": [
    "from langchain.prompts.chat import (\n",
    "    ChatPromptTemplate,\n",
    "    SystemMessagePromptTemplate,\n",
    "    HumanMessagePromptTemplate,\n",
    ")\n",
    "\n",
    "system_template=\"\"\"Use the following pieces of context to answer the users question.\n",
    "Take note of the sources and include them in the answer in the format: \"SOURCES: source1 source2\", use \"SOURCES\" in capital letters regardless of the number of sources.\n",
    "If you don't know the answer, just say that \"I don't know\", don't try to make up an answer.\n",
    "----------------\n",
    "{summaries}\"\"\"\n",
    "messages = [\n",
    "    SystemMessagePromptTemplate.from_template(system_template),\n",
    "    HumanMessagePromptTemplate.from_template(\"{question}\")\n",
    "]\n",
    "prompt = ChatPromptTemplate.from_messages(messages)"
   ]
  },
  {
   "cell_type": "code",
   "execution_count": 19,
   "id": "7fc8be1a",
   "metadata": {},
   "outputs": [],
   "source": [
    "from langchain.chat_models import ChatOpenAI\n",
    "from langchain.chains import RetrievalQAWithSourcesChain\n",
    "\n",
    "chain_type_kwargs = {\"prompt\": prompt}\n",
    "llm = ChatOpenAI(model_name=\"gpt-3.5-turbo\", temperature=0, max_tokens=256)  # Modify model_name if you have access to GPT-4\n",
    "chain = RetrievalQAWithSourcesChain.from_chain_type(\n",
    "    llm=llm,\n",
    "    chain_type=\"stuff\",\n",
    "    retriever=vector_store.as_retriever(),\n",
    "    return_source_documents=True,\n",
    "    verbose = True,\n",
    "    chain_type_kwargs=chain_type_kwargs\n",
    ")\n",
    "\n",
    "from IPython.display import display, Markdown\n",
    "def print_result(result):\n",
    "  output_text = f\"\"\"### Question: \n",
    "  {query}\n",
    "  ### Answer: \n",
    "  {result['answer']}\n",
    "  ### Sources: \n",
    "  {result['sources']}\n",
    "  ### All relevant sources:\n",
    "  {' '.join(list(set([doc.metadata['source'] for doc in result['source_documents']])))}\n",
    "  \"\"\"\n",
    "  display(Markdown(output_text))"
   ]
  },
  {
   "cell_type": "markdown",
   "id": "255789c1",
   "metadata": {},
   "source": [
    "#### Use the chain to query"
   ]
  },
  {
   "cell_type": "code",
   "execution_count": 18,
   "id": "78051508",
   "metadata": {},
   "outputs": [
    {
     "data": {
      "text/markdown": [
       "### Question: \n",
       "  What is SHIP-HATS?\n",
       "  ### Answer: \n",
       "  SHIP (Secure Hybrid Integration Pipeline)-HATS (Hive Agile Testing Solutions) is a Continuous Integration/Continuous Delivery (CI/CD) component within SG Government Tech Stack (SGTS) that enables developers to plan, build, test, and deploy code to production. It is a multi-tenanted Software-as-a-Service (SaaS) based end-to-end CI/CD for all applications that is classified as RESTRICTED and below. It provides security and governance guardrails to ensure policy compliance, better quality, visibility & transparency, shortened time-to-market, economies of scale, GovTech managed, and performance management dashboard. \n",
       "  ### Sources: \n",
       "  docs\\collections\\_products\\categories\\devops\\ship-hats\\overview.md\n",
       "  ### All relevant sources:\n",
       "  docs\\collections\\_products\\categories\\devops\\ship-hats\\resources.md docs\\collections\\_products\\categories\\devops\\ship-hats\\training\\tools.md docs\\collections\\_products\\categories\\devops\\ship-hats\\overview.md\n",
       "  "
      ],
      "text/plain": [
       "<IPython.core.display.Markdown object>"
      ]
     },
     "metadata": {},
     "output_type": "display_data"
    }
   ],
   "source": [
    "query = \"What is SHIP-HATS?\"\n",
    "result = chain(query)\n",
    "print_result(result)"
   ]
  },
  {
   "cell_type": "code",
   "execution_count": 21,
   "id": "1280caa9",
   "metadata": {},
   "outputs": [
    {
     "name": "stdout",
     "output_type": "stream",
     "text": [
      "\u001b[32;1m\u001b[1;3m[chain/start]\u001b[0m \u001b[1m[1:chain:RetrievalQAWithSourcesChain] Entering Chain run with input:\n",
      "\u001b[0m{\n",
      "  \"question\": \"What is SHIP-HATS?\"\n",
      "}\n",
      "\u001b[32;1m\u001b[1;3m[chain/start]\u001b[0m \u001b[1m[1:chain:RetrievalQAWithSourcesChain > 2:chain:StuffDocumentsChain] Entering Chain run with input:\n",
      "\u001b[0m[inputs]\n",
      "\u001b[32;1m\u001b[1;3m[chain/start]\u001b[0m \u001b[1m[1:chain:RetrievalQAWithSourcesChain > 2:chain:StuffDocumentsChain > 3:chain:LLMChain] Entering Chain run with input:\n",
      "\u001b[0m{\n",
      "  \"question\": \"What is SHIP-HATS?\",\n",
      "  \"summaries\": \"Content: What is SHIP-HATS?\\n\\n**SHIP (Secure Hybrid Integration Pipeline)-HATS (Hive Agile Testing Solutions)** is Continuous Integration/Continuous Delivery [CI/CD](https://en.wikipedia.org/wiki/CI/CD){:target=\\\"_blank\\\"} component within SG Government Tech Stack (SGTS) with security and governance guardrails that enables developers to plan, build, test and deploy code to production.\\n\\nThis is a multi-tenanted Software-as-a-Service (SaaS) based end-to-end CI/CD for all applications that is classified as RESTRICTED and below.\\n\\n[Why is CI/CD important?](https://youtu.be/RlZCyexsJBc?t=260){:Target=\\\"_blank\\\"}\\nSource: docs\\\\collections\\\\_products\\\\categories\\\\devops\\\\ship-hats\\\\overview.md\\n\\nContent: Benefits of SHIP-HATS\\n\\n1. **Policy Compliance:** Standardised development tools and environment that is set up in compliance with **Application Infrastructure Architecture Standard (AIAS)** and **Instruction Manual 8 on Information Technology (IM8)** policies.\\n2. **Better Quality:** Automated security testing detects vulnerabilities early in the development cycle helping to deliver high quality applications. SHIP-HATS allows agencies to follow prescriptive workflow templates and share knowledge among themselves.\\n3. **Visibility & Transparency:** Agencies will always have access to source code and hence a better understanding of how the project is progressing.\\n4. **Shortened Time-to-market:** Agencies can shorten the time to market by leveraging on SHIP-HATS CI/CD tools with predefined & re-usable configurations into their system and do not have to invest in resources/time to do procurement with different commercial providers. Agencies also do not have to invest resources to re-train staff who were re-deployed across agencies.\\n5. **Economies of Scale:** SHIP-HATS purchases licenses in bulk and redistributes them for use in smaller quantities to agencies and is offered as a complete package with no hidden cost.\\n6. **GovTech Managed:** The CI/CD tools are procured and managed by GovTech letting you focus on your core application.\\n7. **Performance Management Dashboard:** Value-Stream Measurement capabilities that allow Agencies to capture key industry metrics, such as lead time to deployment and deployment frequency, to monitor the effectiveness of their DevSecOps practices\\nSource: docs\\\\collections\\\\_products\\\\categories\\\\devops\\\\ship-hats\\\\overview.md\\n\\nContent: SHIP-HATS \\n\\n| Developers |  Project Managers, Business Analysts  |\\n| :------------- | ----------------------------------------------------------------------------------------- |\\n| [SHIP-HATS Architectural Approach](https://www.youtube.com/watch?v=yiD4--KSdTI){:target=\\\"_blank\\\"}<br />[Roadmap](./overview#roadmap)<br /><br />[User Roles & Permissions](https://docs.developer.gov.sg/docs/ship-hats-documentation/#/user-roles-permissions){:target=\\\"_blank\\\"}<br /> [Security Testing 101](https://www.youtube.com/watch?v=SVomPCqKGM4){:target=\\\"_blank\\\"}<br />[Continuous Delivery](https://www.youtube.com/watch?v=DMMhqLKHLx0){:target=\\\"_blank\\\"} | [SHIP-HATS Overview for Newbies](https://www.youtube.com/watch?v=SVomPCqKGM4){:target=\\\"_blank\\\"}<br />[Understanding Subscription](./subscriptions){:target=\\\"_blank\\\"}<br /><br />[Request trial (for Public Officers)](./subscription#11-can-i-request-for-a-trial-subscription){:target=\\\"_blank\\\"}\\nSource: docs\\\\collections\\\\_products\\\\categories\\\\devops\\\\ship-hats\\\\resources.md\\n\\nContent: ---\\ntitle: Tools in SHIP-HATS\\nlayout: layout-page-sidenav\\ndescription: insert description.\\npublished: false\\n---\\n\\n### Overview\\n \\n**Commercially Off the Shelf (COTS)** tools are available on SHIP-HATS with right security and compliance settings. Here are curated links to documentation and tutorials to first learn the tools offered under **SHIP-HATS**. Note this is not specific to SHIP-HATS but a pre-cursor so you can use these tools within SHIP-HATS effectively.\\nSource: docs\\\\collections\\\\_products\\\\categories\\\\devops\\\\ship-hats\\\\training\\\\tools.md\"\n",
      "}\n",
      "\u001b[32;1m\u001b[1;3m[llm/start]\u001b[0m \u001b[1m[1:chain:RetrievalQAWithSourcesChain > 2:chain:StuffDocumentsChain > 3:chain:LLMChain > 4:llm:ChatOpenAI] Entering LLM run with input:\n",
      "\u001b[0m{\n",
      "  \"prompts\": [\n",
      "    \"System: Use the following pieces of context to answer the users question.\\nTake note of the sources and include them in the answer in the format: \\\"SOURCES: source1 source2\\\", use \\\"SOURCES\\\" in capital letters regardless of the number of sources.\\nIf you don't know the answer, just say that \\\"I don't know\\\", don't try to make up an answer.\\n----------------\\nContent: What is SHIP-HATS?\\n\\n**SHIP (Secure Hybrid Integration Pipeline)-HATS (Hive Agile Testing Solutions)** is Continuous Integration/Continuous Delivery [CI/CD](https://en.wikipedia.org/wiki/CI/CD){:target=\\\"_blank\\\"} component within SG Government Tech Stack (SGTS) with security and governance guardrails that enables developers to plan, build, test and deploy code to production.\\n\\nThis is a multi-tenanted Software-as-a-Service (SaaS) based end-to-end CI/CD for all applications that is classified as RESTRICTED and below.\\n\\n[Why is CI/CD important?](https://youtu.be/RlZCyexsJBc?t=260){:Target=\\\"_blank\\\"}\\nSource: docs\\\\collections\\\\_products\\\\categories\\\\devops\\\\ship-hats\\\\overview.md\\n\\nContent: Benefits of SHIP-HATS\\n\\n1. **Policy Compliance:** Standardised development tools and environment that is set up in compliance with **Application Infrastructure Architecture Standard (AIAS)** and **Instruction Manual 8 on Information Technology (IM8)** policies.\\n2. **Better Quality:** Automated security testing detects vulnerabilities early in the development cycle helping to deliver high quality applications. SHIP-HATS allows agencies to follow prescriptive workflow templates and share knowledge among themselves.\\n3. **Visibility & Transparency:** Agencies will always have access to source code and hence a better understanding of how the project is progressing.\\n4. **Shortened Time-to-market:** Agencies can shorten the time to market by leveraging on SHIP-HATS CI/CD tools with predefined & re-usable configurations into their system and do not have to invest in resources/time to do procurement with different commercial providers. Agencies also do not have to invest resources to re-train staff who were re-deployed across agencies.\\n5. **Economies of Scale:** SHIP-HATS purchases licenses in bulk and redistributes them for use in smaller quantities to agencies and is offered as a complete package with no hidden cost.\\n6. **GovTech Managed:** The CI/CD tools are procured and managed by GovTech letting you focus on your core application.\\n7. **Performance Management Dashboard:** Value-Stream Measurement capabilities that allow Agencies to capture key industry metrics, such as lead time to deployment and deployment frequency, to monitor the effectiveness of their DevSecOps practices\\nSource: docs\\\\collections\\\\_products\\\\categories\\\\devops\\\\ship-hats\\\\overview.md\\n\\nContent: SHIP-HATS \\n\\n| Developers |  Project Managers, Business Analysts  |\\n| :------------- | ----------------------------------------------------------------------------------------- |\\n| [SHIP-HATS Architectural Approach](https://www.youtube.com/watch?v=yiD4--KSdTI){:target=\\\"_blank\\\"}<br />[Roadmap](./overview#roadmap)<br /><br />[User Roles & Permissions](https://docs.developer.gov.sg/docs/ship-hats-documentation/#/user-roles-permissions){:target=\\\"_blank\\\"}<br /> [Security Testing 101](https://www.youtube.com/watch?v=SVomPCqKGM4){:target=\\\"_blank\\\"}<br />[Continuous Delivery](https://www.youtube.com/watch?v=DMMhqLKHLx0){:target=\\\"_blank\\\"} | [SHIP-HATS Overview for Newbies](https://www.youtube.com/watch?v=SVomPCqKGM4){:target=\\\"_blank\\\"}<br />[Understanding Subscription](./subscriptions){:target=\\\"_blank\\\"}<br /><br />[Request trial (for Public Officers)](./subscription#11-can-i-request-for-a-trial-subscription){:target=\\\"_blank\\\"}\\nSource: docs\\\\collections\\\\_products\\\\categories\\\\devops\\\\ship-hats\\\\resources.md\\n\\nContent: ---\\ntitle: Tools in SHIP-HATS\\nlayout: layout-page-sidenav\\ndescription: insert description.\\npublished: false\\n---\\n\\n### Overview\\n \\n**Commercially Off the Shelf (COTS)** tools are available on SHIP-HATS with right security and compliance settings. Here are curated links to documentation and tutorials to first learn the tools offered under **SHIP-HATS**. Note this is not specific to SHIP-HATS but a pre-cursor so you can use these tools within SHIP-HATS effectively.\\nSource: docs\\\\collections\\\\_products\\\\categories\\\\devops\\\\ship-hats\\\\training\\\\tools.md\\nHuman: What is SHIP-HATS?\"\n",
      "  ]\n",
      "}\n"
     ]
    },
    {
     "name": "stdout",
     "output_type": "stream",
     "text": [
      "\u001b[36;1m\u001b[1;3m[llm/end]\u001b[0m \u001b[1m[1:chain:RetrievalQAWithSourcesChain > 2:chain:StuffDocumentsChain > 3:chain:LLMChain > 4:llm:ChatOpenAI] [9.21s] Exiting LLM run with output:\n",
      "\u001b[0m{\n",
      "  \"generations\": [\n",
      "    [\n",
      "      {\n",
      "        \"text\": \"SHIP (Secure Hybrid Integration Pipeline)-HATS (Hive Agile Testing Solutions) is a Continuous Integration/Continuous Delivery (CI/CD) component within SG Government Tech Stack (SGTS) that enables developers to plan, build, test, and deploy code to production. It is a multi-tenanted Software-as-a-Service (SaaS) based end-to-end CI/CD for all applications that is classified as RESTRICTED and below. It provides security and governance guardrails to ensure policy compliance, better quality, visibility & transparency, shortened time-to-market, economies of scale, GovTech managed, and performance management dashboard. SOURCES: docs\\\\collections\\\\_products\\\\categories\\\\devops\\\\ship-hats\\\\overview.md\",\n",
      "        \"generation_info\": null,\n",
      "        \"message\": {\n",
      "          \"content\": \"SHIP (Secure Hybrid Integration Pipeline)-HATS (Hive Agile Testing Solutions) is a Continuous Integration/Continuous Delivery (CI/CD) component within SG Government Tech Stack (SGTS) that enables developers to plan, build, test, and deploy code to production. It is a multi-tenanted Software-as-a-Service (SaaS) based end-to-end CI/CD for all applications that is classified as RESTRICTED and below. It provides security and governance guardrails to ensure policy compliance, better quality, visibility & transparency, shortened time-to-market, economies of scale, GovTech managed, and performance management dashboard. SOURCES: docs\\\\collections\\\\_products\\\\categories\\\\devops\\\\ship-hats\\\\overview.md\",\n",
      "          \"additional_kwargs\": {},\n",
      "          \"example\": false\n",
      "        }\n",
      "      }\n",
      "    ]\n",
      "  ],\n",
      "  \"llm_output\": {\n",
      "    \"token_usage\": {\n",
      "      \"prompt_tokens\": 984,\n",
      "      \"completion_tokens\": 147,\n",
      "      \"total_tokens\": 1131\n",
      "    },\n",
      "    \"model_name\": \"gpt-3.5-turbo\"\n",
      "  }\n",
      "}\n",
      "\u001b[36;1m\u001b[1;3m[chain/end]\u001b[0m \u001b[1m[1:chain:RetrievalQAWithSourcesChain > 2:chain:StuffDocumentsChain > 3:chain:LLMChain] [9.21s] Exiting Chain run with output:\n",
      "\u001b[0m{\n",
      "  \"text\": \"SHIP (Secure Hybrid Integration Pipeline)-HATS (Hive Agile Testing Solutions) is a Continuous Integration/Continuous Delivery (CI/CD) component within SG Government Tech Stack (SGTS) that enables developers to plan, build, test, and deploy code to production. It is a multi-tenanted Software-as-a-Service (SaaS) based end-to-end CI/CD for all applications that is classified as RESTRICTED and below. It provides security and governance guardrails to ensure policy compliance, better quality, visibility & transparency, shortened time-to-market, economies of scale, GovTech managed, and performance management dashboard. SOURCES: docs\\\\collections\\\\_products\\\\categories\\\\devops\\\\ship-hats\\\\overview.md\"\n",
      "}\n",
      "\u001b[36;1m\u001b[1;3m[chain/end]\u001b[0m \u001b[1m[1:chain:RetrievalQAWithSourcesChain > 2:chain:StuffDocumentsChain] [9.22s] Exiting Chain run with output:\n",
      "\u001b[0m{\n",
      "  \"output_text\": \"SHIP (Secure Hybrid Integration Pipeline)-HATS (Hive Agile Testing Solutions) is a Continuous Integration/Continuous Delivery (CI/CD) component within SG Government Tech Stack (SGTS) that enables developers to plan, build, test, and deploy code to production. It is a multi-tenanted Software-as-a-Service (SaaS) based end-to-end CI/CD for all applications that is classified as RESTRICTED and below. It provides security and governance guardrails to ensure policy compliance, better quality, visibility & transparency, shortened time-to-market, economies of scale, GovTech managed, and performance management dashboard. SOURCES: docs\\\\collections\\\\_products\\\\categories\\\\devops\\\\ship-hats\\\\overview.md\"\n",
      "}\n",
      "\u001b[36;1m\u001b[1;3m[chain/end]\u001b[0m \u001b[1m[1:chain:RetrievalQAWithSourcesChain] [9.95s] Exiting Chain run with output:\n",
      "\u001b[0m[outputs]\n"
     ]
    },
    {
     "data": {
      "text/markdown": [
       "### Question: \n",
       "  What is SHIP-HATS?\n",
       "  ### Answer: \n",
       "  SHIP (Secure Hybrid Integration Pipeline)-HATS (Hive Agile Testing Solutions) is a Continuous Integration/Continuous Delivery (CI/CD) component within SG Government Tech Stack (SGTS) that enables developers to plan, build, test, and deploy code to production. It is a multi-tenanted Software-as-a-Service (SaaS) based end-to-end CI/CD for all applications that is classified as RESTRICTED and below. It provides security and governance guardrails to ensure policy compliance, better quality, visibility & transparency, shortened time-to-market, economies of scale, GovTech managed, and performance management dashboard. \n",
       "  ### Sources: \n",
       "  docs\\collections\\_products\\categories\\devops\\ship-hats\\overview.md\n",
       "  ### All relevant sources:\n",
       "  docs\\collections\\_products\\categories\\devops\\ship-hats\\resources.md docs\\collections\\_products\\categories\\devops\\ship-hats\\training\\tools.md docs\\collections\\_products\\categories\\devops\\ship-hats\\overview.md\n",
       "  "
      ],
      "text/plain": [
       "<IPython.core.display.Markdown object>"
      ]
     },
     "metadata": {},
     "output_type": "display_data"
    }
   ],
   "source": [
    "import langchain\n",
    "langchain.debug=True\n",
    "\n",
    "query = \"What is SHIP-HATS?\"\n",
    "result = chain(query)\n",
    "print_result(result)\n",
    "langchain.debug=False"
   ]
  },
  {
   "cell_type": "code",
   "execution_count": null,
   "id": "24c25f58",
   "metadata": {},
   "outputs": [],
   "source": []
  },
  {
   "cell_type": "code",
   "execution_count": null,
   "id": "3f4a7457",
   "metadata": {},
   "outputs": [],
   "source": []
  },
  {
   "cell_type": "code",
   "execution_count": null,
   "id": "c818be27",
   "metadata": {},
   "outputs": [],
   "source": []
  },
  {
   "cell_type": "code",
   "execution_count": null,
   "id": "b21281fb",
   "metadata": {},
   "outputs": [],
   "source": []
  },
  {
   "cell_type": "code",
   "execution_count": null,
   "id": "fa86ef43",
   "metadata": {},
   "outputs": [],
   "source": []
  },
  {
   "cell_type": "code",
   "execution_count": null,
   "id": "ff6a1a5a",
   "metadata": {},
   "outputs": [],
   "source": []
  },
  {
   "cell_type": "code",
   "execution_count": null,
   "id": "8bdd19e8",
   "metadata": {},
   "outputs": [],
   "source": []
  },
  {
   "cell_type": "code",
   "execution_count": null,
   "id": "18179b0c",
   "metadata": {},
   "outputs": [],
   "source": []
  }
 ],
 "metadata": {
  "kernelspec": {
   "display_name": "Python 3 (ipykernel)",
   "language": "python",
   "name": "python3"
  },
  "language_info": {
   "codemirror_mode": {
    "name": "ipython",
    "version": 3
   },
   "file_extension": ".py",
   "mimetype": "text/x-python",
   "name": "python",
   "nbconvert_exporter": "python",
   "pygments_lexer": "ipython3",
   "version": "3.10.9"
  }
 },
 "nbformat": 4,
 "nbformat_minor": 5
}
